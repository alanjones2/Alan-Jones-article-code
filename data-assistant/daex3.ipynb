{
 "cells": [
  {
   "cell_type": "markdown",
   "metadata": {},
   "source": [
    "# Data Analysis with the OpenAI Assistants API\n",
    "\n",
    "A tutorial on how to get GPT4 to analyse a CSV file with the new Assistants API.\n",
    "\n",
    "OpenAI tells us \"The Assistants API allows you to build AI assistants within your own applications. An Assistant has instructions and can leverage models, tools, and knowledge to respond to user queries. The Assistants API currently supports three types of tools: Code Interpreter, Retrieval, and Function calling.\"\n",
    "\n",
    "In this tutorial we will use the Code Interpreter tool in order to read CSV data; we will then ask the AI questions about the data and display the messages that are returned.\n",
    "\n",
    "Some of the code is adapted from the [OpenAI Cookbook](https://github.com/openai/openai-cookbook/blob/main/examples/Assistants_API_overview_python.ipynb) (MIT licence)."
   ]
  },
  {
   "cell_type": "code",
   "execution_count": 1,
   "metadata": {},
   "outputs": [],
   "source": [
    "import json\n",
    "\n",
    "# This utility function uses the IPython function 'display' to pretty-print the JSON of the\n",
    "# various entities created in the Assistants API. This code is copied directly from the OpenAI Cookbook.\n",
    "\n",
    "def show_json(obj):\n",
    "    display(json.loads(obj.model_dump_json()))"
   ]
  },
  {
   "cell_type": "markdown",
   "metadata": {},
   "source": [
    "### Assistants\n",
    "You can create Assistants directly through the Assistants API. You must provide a name, a model and instruction as in the code below and you must, of course be signed in. This Notebook requires you to enter your OpenAI API key.\n",
    "\n",
    "After creating the assistant we display the JSON version of it."
   ]
  },
  {
   "cell_type": "code",
   "execution_count": 2,
   "metadata": {},
   "outputs": [],
   "source": [
    "from openai import OpenAI\n",
    "\n",
    "# If you have set an environment variable set with your API key then you do not need\n",
    "# to pass it to OpenAI\n",
    "# client = OpenAI()\n",
    "\n",
    "# Otherwise you need to pass the key as a parameter, e.g.\n",
    "# api_key = \"your key here - don't put this in publicly available code!\"\n",
    "# or enter it interactively\n",
    "api_key = input(\"API key\")\n",
    "\n",
    "client = OpenAI(api_key = api_key)"
   ]
  },
  {
   "cell_type": "code",
   "execution_count": 3,
   "metadata": {},
   "outputs": [
    {
     "data": {
      "text/plain": [
       "{'id': 'asst_KPJMedvBcgVfZq1SKtnxbhVe',\n",
       " 'created_at': 1710757235,\n",
       " 'description': None,\n",
       " 'file_ids': [],\n",
       " 'instructions': 'You are a data analyst who can analyse and interpret data files such as CSV and can draw conclusions from the data',\n",
       " 'metadata': {},\n",
       " 'model': 'gpt-4-1106-preview',\n",
       " 'name': 'Data Assistant',\n",
       " 'object': 'assistant',\n",
       " 'tools': []}"
      ]
     },
     "metadata": {},
     "output_type": "display_data"
    }
   ],
   "source": [
    "# Create an assistant and show what it looks like\n",
    "\n",
    "assistant = client.beta.assistants.create(\n",
    "    name=\"Data Assistant\",\n",
    "    instructions=\"You are a data analyst who can analyse and interpret data files such as CSV and can draw conclusions from the data\",\n",
    "    model=\"gpt-4-1106-preview\",\n",
    ")\n",
    "show_json(assistant)"
   ]
  },
  {
   "cell_type": "markdown",
   "metadata": {},
   "source": [
    "### Create a thread\n",
    "\n",
    "Initially, the thread is empty.\n"
   ]
  },
  {
   "cell_type": "code",
   "execution_count": 4,
   "metadata": {},
   "outputs": [
    {
     "data": {
      "text/plain": [
       "{'id': 'thread_Wqyp05bvHMyp2jsiIi46yexd',\n",
       " 'created_at': 1710757235,\n",
       " 'metadata': {},\n",
       " 'object': 'thread'}"
      ]
     },
     "metadata": {},
     "output_type": "display_data"
    }
   ],
   "source": [
    "thread = client.beta.threads.create()\n",
    "show_json(thread)"
   ]
  },
  {
   "cell_type": "markdown",
   "metadata": {},
   "source": [
    "A utility from the OpenAI Cookbook to poll the run for completion"
   ]
  },
  {
   "cell_type": "code",
   "execution_count": 5,
   "metadata": {},
   "outputs": [],
   "source": [
    "import time\n",
    "\n",
    "def wait_on_run(run, thread):\n",
    "    while run.status == \"queued\" or run.status == \"in_progress\":\n",
    "        run = client.beta.threads.runs.retrieve(\n",
    "            thread_id=thread.id,\n",
    "            run_id=run.id,\n",
    "        )\n",
    "        time.sleep(0.5)\n",
    "    return run"
   ]
  },
  {
   "cell_type": "markdown",
   "metadata": {},
   "source": [
    "Wait for completion of the run"
   ]
  },
  {
   "cell_type": "code",
   "execution_count": 6,
   "metadata": {},
   "outputs": [],
   "source": [
    "# Pretty printing helper from the OpenAI Cookbook\n",
    "\n",
    "def pretty_print(messages):\n",
    "    print(\"# Messages\")\n",
    "    for m in messages:\n",
    "        print(f\"{m.role}: {m.content[0].text.value}\")\n",
    "    print()"
   ]
  },
  {
   "cell_type": "markdown",
   "metadata": {},
   "source": [
    "#### Code Interpreter\n",
    "\n",
    "Add the code interpreter tool\n"
   ]
  },
  {
   "cell_type": "code",
   "execution_count": 7,
   "metadata": {},
   "outputs": [
    {
     "data": {
      "text/plain": [
       "{'id': 'asst_KPJMedvBcgVfZq1SKtnxbhVe',\n",
       " 'created_at': 1710757235,\n",
       " 'description': None,\n",
       " 'file_ids': [],\n",
       " 'instructions': 'You are a data analyst who can analyse and interpret data files such as CSV and can draw conclusions from the data',\n",
       " 'metadata': {},\n",
       " 'model': 'gpt-4-1106-preview',\n",
       " 'name': 'Data Assistant',\n",
       " 'object': 'assistant',\n",
       " 'tools': [{'type': 'code_interpreter'}]}"
      ]
     },
     "metadata": {},
     "output_type": "display_data"
    }
   ],
   "source": [
    "assistant = client.beta.assistants.update(\n",
    "    assistant.id,\n",
    "    tools=[{\"type\": \"code_interpreter\"}],\n",
    ")\n",
    "show_json(assistant)\n"
   ]
  },
  {
   "cell_type": "code",
   "execution_count": 8,
   "metadata": {},
   "outputs": [],
   "source": [
    "from vega_datasets import data\n",
    "\n",
    "df = data.gapminder()\n",
    "df.to_csv(\"data.csv\")"
   ]
  },
  {
   "cell_type": "code",
   "execution_count": 9,
   "metadata": {},
   "outputs": [
    {
     "data": {
      "text/plain": [
       "{'id': 'asst_KPJMedvBcgVfZq1SKtnxbhVe',\n",
       " 'created_at': 1710757235,\n",
       " 'description': None,\n",
       " 'file_ids': ['file-KuB2jlqECC7T8YqWvRWIGxKr'],\n",
       " 'instructions': 'You are a data analyst who can analyse and interpret data files such as CSV and can draw conclusions from the data',\n",
       " 'metadata': {},\n",
       " 'model': 'gpt-4-1106-preview',\n",
       " 'name': 'Data Assistant',\n",
       " 'object': 'assistant',\n",
       " 'tools': [{'type': 'code_interpreter'}]}"
      ]
     },
     "metadata": {},
     "output_type": "display_data"
    }
   ],
   "source": [
    "# Upload the file\n",
    "file = client.files.create(\n",
    "    file=open(\n",
    "        \"data.csv\",\n",
    "        \"rb\",\n",
    "    ),\n",
    "    purpose=\"assistants\",\n",
    ")\n",
    "# Update Assistant\n",
    "assistant = client.beta.assistants.update(\n",
    "    assistant.id,\n",
    "    tools=[{\"type\": \"code_interpreter\"}],\n",
    "    file_ids=[file.id],\n",
    ")\n",
    "show_json(assistant)"
   ]
  },
  {
   "cell_type": "code",
   "execution_count": 10,
   "metadata": {},
   "outputs": [
    {
     "data": {
      "text/plain": [
       "{'data': [{'id': 'msg_pNy3H7met2SwVK7MzGdVqt3F',\n",
       "   'assistant_id': 'asst_KPJMedvBcgVfZq1SKtnxbhVe',\n",
       "   'content': [{'text': {'annotations': [],\n",
       "      'value': \"To create the line chart, I first need to examine the contents of the uploaded file to understand the structure of the data, including what time period it covers and how the population figures are recorded. Once I have this information, I can parse the data and create the appropriate line chart.\\n\\nI will begin by loading the data and previewing its structure to determine how we can extract the US population over time. Let's take a look at the file.\"},\n",
       "     'type': 'text'}],\n",
       "   'created_at': 1710757241,\n",
       "   'file_ids': [],\n",
       "   'metadata': {},\n",
       "   'object': 'thread.message',\n",
       "   'role': 'assistant',\n",
       "   'run_id': 'run_84kPyLyMWCDZMcwgvLPtj0PU',\n",
       "   'thread_id': 'thread_Wqyp05bvHMyp2jsiIi46yexd'},\n",
       "  {'id': 'msg_3LiWou93oHp8voLgeWltavli',\n",
       "   'assistant_id': 'asst_KPJMedvBcgVfZq1SKtnxbhVe',\n",
       "   'content': [{'text': {'annotations': [],\n",
       "      'value': \"It looks like the dataset contains several columns including 'year', 'country', 'pop' (which I assume stands for population), 'life_expect' (life expectancy), and 'fertility'. To create a line chart showing the change in US population over time, I will filter the data for the United States and then plot the 'year' column on the x-axis and the 'pop' column on the y-axis.\\n\\nLet's proceed with extracting the data for the United States and plotting the line chart.\"},\n",
       "     'type': 'text'}],\n",
       "   'created_at': 1710757248,\n",
       "   'file_ids': [],\n",
       "   'metadata': {},\n",
       "   'object': 'thread.message',\n",
       "   'role': 'assistant',\n",
       "   'run_id': 'run_84kPyLyMWCDZMcwgvLPtj0PU',\n",
       "   'thread_id': 'thread_Wqyp05bvHMyp2jsiIi46yexd'},\n",
       "  {'id': 'msg_jhIXc65AB9hYWrE3bJo0xZIY',\n",
       "   'assistant_id': 'asst_KPJMedvBcgVfZq1SKtnxbhVe',\n",
       "   'content': [{'image_file': {'file_id': 'file-xdZcG8zRWKInraZlUUJA8pws'},\n",
       "     'type': 'image_file'},\n",
       "    {'text': {'annotations': [],\n",
       "      'value': \"Here is the line chart showing the change in US population over time. As you can see, we've plotted the population data against the years to illustrate the trend. If you have any additional requests or need further analysis, feel free to ask!\"},\n",
       "     'type': 'text'}],\n",
       "   'created_at': 1710757261,\n",
       "   'file_ids': [],\n",
       "   'metadata': {},\n",
       "   'object': 'thread.message',\n",
       "   'role': 'assistant',\n",
       "   'run_id': 'run_84kPyLyMWCDZMcwgvLPtj0PU',\n",
       "   'thread_id': 'thread_Wqyp05bvHMyp2jsiIi46yexd'}],\n",
       " 'object': 'list',\n",
       " 'first_id': 'msg_pNy3H7met2SwVK7MzGdVqt3F',\n",
       " 'last_id': 'msg_jhIXc65AB9hYWrE3bJo0xZIY',\n",
       " 'has_more': False}"
      ]
     },
     "metadata": {},
     "output_type": "display_data"
    }
   ],
   "source": [
    "# Create a message to append to our thread\n",
    "message = client.beta.threads.messages.create(\n",
    "    thread_id=thread.id, \n",
    "    role=\"user\", \n",
    "    content=\"\"\"Draw a line chart of the change in US population over time\"\"\"\n",
    ")\n",
    "\n",
    "# Execute our run\n",
    "run = client.beta.threads.runs.create(\n",
    "    thread_id=thread.id,\n",
    "    assistant_id=assistant.id,\n",
    ")\n",
    "\n",
    "# Wait for completion\n",
    "wait_on_run(run, thread)\n",
    "\n",
    "# Retrieve all the messages added after our last user message\n",
    "messages = client.beta.threads.messages.list(\n",
    "    thread_id=thread.id, \n",
    "    order=\"asc\", \n",
    "    after=message.id\n",
    ")\n",
    "show_json(messages)"
   ]
  },
  {
   "cell_type": "code",
   "execution_count": 11,
   "metadata": {},
   "outputs": [
    {
     "data": {
      "text/plain": [
       "{'data': [{'id': 'msg_pNy3H7met2SwVK7MzGdVqt3F',\n",
       "   'assistant_id': 'asst_KPJMedvBcgVfZq1SKtnxbhVe',\n",
       "   'content': [{'text': {'annotations': [],\n",
       "      'value': \"To create the line chart, I first need to examine the contents of the uploaded file to understand the structure of the data, including what time period it covers and how the population figures are recorded. Once I have this information, I can parse the data and create the appropriate line chart.\\n\\nI will begin by loading the data and previewing its structure to determine how we can extract the US population over time. Let's take a look at the file.\"},\n",
       "     'type': 'text'}],\n",
       "   'created_at': 1710757241,\n",
       "   'file_ids': [],\n",
       "   'metadata': {},\n",
       "   'object': 'thread.message',\n",
       "   'role': 'assistant',\n",
       "   'run_id': 'run_84kPyLyMWCDZMcwgvLPtj0PU',\n",
       "   'thread_id': 'thread_Wqyp05bvHMyp2jsiIi46yexd'},\n",
       "  {'id': 'msg_3LiWou93oHp8voLgeWltavli',\n",
       "   'assistant_id': 'asst_KPJMedvBcgVfZq1SKtnxbhVe',\n",
       "   'content': [{'text': {'annotations': [],\n",
       "      'value': \"It looks like the dataset contains several columns including 'year', 'country', 'pop' (which I assume stands for population), 'life_expect' (life expectancy), and 'fertility'. To create a line chart showing the change in US population over time, I will filter the data for the United States and then plot the 'year' column on the x-axis and the 'pop' column on the y-axis.\\n\\nLet's proceed with extracting the data for the United States and plotting the line chart.\"},\n",
       "     'type': 'text'}],\n",
       "   'created_at': 1710757248,\n",
       "   'file_ids': [],\n",
       "   'metadata': {},\n",
       "   'object': 'thread.message',\n",
       "   'role': 'assistant',\n",
       "   'run_id': 'run_84kPyLyMWCDZMcwgvLPtj0PU',\n",
       "   'thread_id': 'thread_Wqyp05bvHMyp2jsiIi46yexd'},\n",
       "  {'id': 'msg_jhIXc65AB9hYWrE3bJo0xZIY',\n",
       "   'assistant_id': 'asst_KPJMedvBcgVfZq1SKtnxbhVe',\n",
       "   'content': [{'image_file': {'file_id': 'file-xdZcG8zRWKInraZlUUJA8pws'},\n",
       "     'type': 'image_file'},\n",
       "    {'text': {'annotations': [],\n",
       "      'value': \"Here is the line chart showing the change in US population over time. As you can see, we've plotted the population data against the years to illustrate the trend. If you have any additional requests or need further analysis, feel free to ask!\"},\n",
       "     'type': 'text'}],\n",
       "   'created_at': 1710757261,\n",
       "   'file_ids': [],\n",
       "   'metadata': {},\n",
       "   'object': 'thread.message',\n",
       "   'role': 'assistant',\n",
       "   'run_id': 'run_84kPyLyMWCDZMcwgvLPtj0PU',\n",
       "   'thread_id': 'thread_Wqyp05bvHMyp2jsiIi46yexd'}],\n",
       " 'object': 'list',\n",
       " 'first_id': 'msg_pNy3H7met2SwVK7MzGdVqt3F',\n",
       " 'last_id': 'msg_jhIXc65AB9hYWrE3bJo0xZIY',\n",
       " 'has_more': False}"
      ]
     },
     "metadata": {},
     "output_type": "display_data"
    }
   ],
   "source": [
    "show_json(messages)"
   ]
  },
  {
   "cell_type": "code",
   "execution_count": 13,
   "metadata": {},
   "outputs": [],
   "source": [
    "# this not working as the messages are not only text\n",
    "#pretty_print(messages)"
   ]
  },
  {
   "cell_type": "code",
   "execution_count": 18,
   "metadata": {},
   "outputs": [],
   "source": [
    "# code here to extract the image file\n",
    "output_files = client.files.list(purpose=\"assistants_output\")"
   ]
  },
  {
   "cell_type": "code",
   "execution_count": 24,
   "metadata": {},
   "outputs": [
    {
     "name": "stdout",
     "output_type": "stream",
     "text": [
      "[FileObject(id='file-xdZcG8zRWKInraZlUUJA8pws', bytes=103495, created_at=1710757260, filename='7920bf66-aa74-4c35-8ce3-a750d8c8ef79', object='file', purpose='assistants_output', status='processed', status_details=None)]\n"
     ]
    }
   ],
   "source": [
    "print(output_files.data)"
   ]
  },
  {
   "cell_type": "code",
   "execution_count": 25,
   "metadata": {},
   "outputs": [
    {
     "name": "stdout",
     "output_type": "stream",
     "text": [
      "file-xdZcG8zRWKInraZlUUJA8pws\n"
     ]
    }
   ],
   "source": [
    "output_file_id = output_files.data[0].id\n",
    "print(output_file_id)"
   ]
  },
  {
   "cell_type": "code",
   "execution_count": 35,
   "metadata": {},
   "outputs": [
    {
     "data": {
      "application/vnd.jupyter.widget-view+json": {
       "model_id": "0a53018a9f6e4b12936c546e52c7c781",
       "version_major": 2,
       "version_minor": 0
      },
      "text/plain": [
       "Dropdown(description='Choose file', options=(FileObject(id='file-xdZcG8zRWKInraZlUUJA8pws', bytes=103495, crea…"
      ]
     },
     "execution_count": 35,
     "metadata": {},
     "output_type": "execute_result"
    }
   ],
   "source": [
    "import ipywidgets as widgets\n",
    "\n",
    "s = widgets.Dropdown(\n",
    "    options=output_files.data,\n",
    "    description='Choose file',\n",
    "    disabled = False\n",
    ")\n",
    "\n",
    "s"
   ]
  },
  {
   "cell_type": "code",
   "execution_count": 36,
   "metadata": {},
   "outputs": [
    {
     "name": "stdout",
     "output_type": "stream",
     "text": [
      "FileObject(id='file-xdZcG8zRWKInraZlUUJA8pws', bytes=103495, created_at=1710757260, filename='7920bf66-aa74-4c35-8ce3-a750d8c8ef79', object='file', purpose='assistants_output', status='processed', status_details=None)\n"
     ]
    }
   ],
   "source": [
    "print(s.value)"
   ]
  },
  {
   "cell_type": "code",
   "execution_count": 26,
   "metadata": {},
   "outputs": [],
   "source": [
    "image_data = client.files.content(output_file_id)\n",
    "image_data_bytes = image_data.read()\n",
    "\n",
    "with open(\"./my-image.png\", \"wb\") as file:\n",
    "    file.write(image_data_bytes)"
   ]
  },
  {
   "cell_type": "code",
   "execution_count": 14,
   "metadata": {},
   "outputs": [
    {
     "name": "stdout",
     "output_type": "stream",
     "text": [
      "FileDeleteResponse(id='file-KuB2jlqECC7T8YqWvRWIGxKr', deleted=True, object='assistant.file.deleted')\n",
      "AssistantDeleted(id='asst_KPJMedvBcgVfZq1SKtnxbhVe', deleted=True, object='assistant.deleted')\n"
     ]
    }
   ],
   "source": [
    "# Clear up after session\n",
    "\n",
    "deleted_assistant_file = client.beta.assistants.files.delete(\n",
    "    assistant_id=assistant.id,\n",
    "    file_id=file.id\n",
    ")\n",
    "print(deleted_assistant_file)\n",
    "\n",
    "response = client.beta.assistants.delete(assistant.id)\n",
    "print(response)\n",
    "\n"
   ]
  }
 ],
 "metadata": {
  "kernelspec": {
   "display_name": "openai",
   "language": "python",
   "name": "python3"
  },
  "language_info": {
   "codemirror_mode": {
    "name": "ipython",
    "version": 3
   },
   "file_extension": ".py",
   "mimetype": "text/x-python",
   "name": "python",
   "nbconvert_exporter": "python",
   "pygments_lexer": "ipython3",
   "version": "3.11.7"
  }
 },
 "nbformat": 4,
 "nbformat_minor": 2
}
